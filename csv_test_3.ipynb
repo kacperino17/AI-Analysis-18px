{
 "cells": [
  {
   "cell_type": "code",
   "execution_count": null,
   "metadata": {},
   "outputs": [],
   "source": [
    "import os\n",
    "import pandas as pd\n",
    "import matplotlib.pyplot as plt\n",
    "import seaborn as sns\n",
    "from scipy.stats import ttest_ind, mannwhitneyu, levene"
   ]
  },
  {
   "cell_type": "markdown",
   "metadata": {},
   "source": [
    "ile path"
   ]
  },
  {
   "cell_type": "code",
   "execution_count": null,
   "metadata": {},
   "outputs": [],
   "source": [
    "input_file = \"1_features.csv\"\n",
    "output_folder = \"graphs\"\n",
    "output_summary_file = \"summary_statistics.csv\"\n",
    "output_test_file = \"statistical_tests.csv\""
   ]
  },
  {
   "cell_type": "markdown",
   "metadata": {},
   "source": [
    "eading files"
   ]
  },
  {
   "cell_type": "code",
   "execution_count": null,
   "metadata": {},
   "outputs": [],
   "source": [
    "os.makedirs(output_folder, exist_ok=True)"
   ]
  },
  {
   "cell_type": "code",
   "execution_count": null,
   "metadata": {},
   "outputs": [],
   "source": [
    "df = pd.read_csv(input_file, index_col=1)"
   ]
  },
  {
   "cell_type": "code",
   "execution_count": null,
   "metadata": {},
   "outputs": [],
   "source": [
    "letters = list(\"abcdefghijklmnopqrstuvwxyz\")\n",
    "non_letters = ['sad', 'smiley', 'xclaim']"
   ]
  },
  {
   "cell_type": "markdown",
   "metadata": {},
   "source": [
    "eperating letetrer from non-letetr"
   ]
  },
  {
   "cell_type": "code",
   "execution_count": null,
   "metadata": {},
   "outputs": [],
   "source": [
    "df['type'] = df['label'].apply(lambda x: 'Letter' if x in letters else 'Non-Letter')"
   ]
  },
  {
   "cell_type": "markdown",
   "metadata": {},
   "source": [
    "ames for columns"
   ]
  },
  {
   "cell_type": "code",
   "execution_count": null,
   "metadata": {},
   "outputs": [],
   "source": [
    "columns = [\"nr_pix\", \"rows_with_1\", \"cols_with_1\", \n",
    "           \"rows_with_3p\", \"cols_with_3p\", \"aspect_ratio\", \"density\"]"
   ]
  },
  {
   "cell_type": "code",
   "execution_count": null,
   "metadata": {},
   "outputs": [],
   "source": [
    "titles = [\"nr_pix\", \"rows_with_1\", \"cols_with_1\", \"rows_with_3p\", \"cols_with_3p\", \"aspect_ratio\", \"density\"]"
   ]
  },
  {
   "cell_type": "code",
   "execution_count": null,
   "metadata": {},
   "outputs": [],
   "source": [
    "print(columns)"
   ]
  },
  {
   "cell_type": "markdown",
   "metadata": {},
   "source": [
    "reating histograms"
   ]
  },
  {
   "cell_type": "code",
   "execution_count": null,
   "metadata": {},
   "outputs": [],
   "source": [
    "for col, title in zip(columns, titles):\n",
    "    plt.figure(figsize=(8, 6))\n",
    "    sns.histplot(df[col], kde=True, color='skyblue')\n",
    "    plt.title(f\"{title} Histogram\")\n",
    "    plt.xlabel(title)\n",
    "    plt.ylabel('Frequency')\n",
    "\n",
    "    # Save the plot\n",
    "    output_path = os.path.join(output_folder, f\"{title}_histogram.png\")\n",
    "    plt.savefig(output_path)\n",
    "    plt.close()"
   ]
  },
  {
   "cell_type": "markdown",
   "metadata": {},
   "source": [
    "xcludes index"
   ]
  },
  {
   "cell_type": "code",
   "execution_count": null,
   "metadata": {},
   "outputs": [],
   "source": [
    "features = df.drop(columns=['label', 'type']).select_dtypes(include=['float64', 'int64']).columns"
   ]
  },
  {
   "cell_type": "markdown",
   "metadata": {},
   "source": [
    "ean, median, and standard deviation for letters"
   ]
  },
  {
   "cell_type": "code",
   "execution_count": null,
   "metadata": {},
   "outputs": [],
   "source": [
    "summary_letters = df[df['type'] == 'Letter'][features].agg(['mean', 'median', 'std'])"
   ]
  },
  {
   "cell_type": "markdown",
   "metadata": {},
   "source": [
    "ean, median, and standard deviation for non-letters"
   ]
  },
  {
   "cell_type": "code",
   "execution_count": null,
   "metadata": {},
   "outputs": [],
   "source": [
    "summary_non_letters = df[df['type'] == 'Non-Letter'][features].agg(['mean', 'median', 'std'])"
   ]
  },
  {
   "cell_type": "markdown",
   "metadata": {},
   "source": [
    "reating table"
   ]
  },
  {
   "cell_type": "code",
   "execution_count": null,
   "metadata": {},
   "outputs": [],
   "source": [
    "summary_combined = pd.concat([summary_letters, summary_non_letters], keys=['Letters', 'Non-Letters'])"
   ]
  },
  {
   "cell_type": "code",
   "execution_count": null,
   "metadata": {},
   "outputs": [],
   "source": [
    "summary_combined.to_csv(output_summary_file)"
   ]
  },
  {
   "cell_type": "markdown",
   "metadata": {},
   "source": [
    "lotting histograms"
   ]
  },
  {
   "cell_type": "code",
   "execution_count": null,
   "metadata": {},
   "outputs": [],
   "source": [
    "interesting_features = ['nr_pix', 'no_neigh_below', 'eyes']"
   ]
  },
  {
   "cell_type": "code",
   "execution_count": null,
   "metadata": {},
   "outputs": [],
   "source": [
    "for feature in interesting_features:\n",
    "    plt.figure(figsize=(8, 6))\n",
    "    sns.histplot(df[df['type'] == 'Letter'][feature], color='blue', label='Letters', kde=True, stat=\"density\", bins=30)\n",
    "    sns.histplot(df[df['type'] == 'Non-Letter'][feature], color='red', label='Non-Letters', kde=True, stat=\"density\", bins=30)\n",
    "    \n",
    "    plt.title(f\"{feature} Distribution for Letters vs Non-Letters\")\n",
    "    plt.xlabel(feature)\n",
    "    plt.ylabel(\"Density\")\n",
    "    plt.legend()\n",
    "    \n",
    "    # Save the plot\n",
    "    plt.savefig(f\"graphs/{feature}_comparison.png\")\n",
    "    plt.close()"
   ]
  },
  {
   "cell_type": "markdown",
   "metadata": {},
   "source": [
    "tatistical analysis"
   ]
  },
  {
   "cell_type": "code",
   "execution_count": null,
   "metadata": {},
   "outputs": [],
   "source": [
    "results = []"
   ]
  },
  {
   "cell_type": "code",
   "execution_count": null,
   "metadata": {},
   "outputs": [],
   "source": [
    "for feature in features:\n",
    "    #splitting data in non-letters and letters\n",
    "    data_letters = df[df['type'] == 'Letter'][feature]\n",
    "    data_non_letters = df[df['type'] == 'Non-Letter'][feature]\n",
    "    \n",
    "    #levens tests\n",
    "    _, p_var = levene(data_letters, data_non_letters)\n",
    "    \n",
    "    if p_var < 0.05:\n",
    "        # If variances are unequal, use Mann-Whitney U test\n",
    "        stat, p_value = mannwhitneyu(data_letters, data_non_letters, alternative='two-sided')\n",
    "        test_used = 'Mann-Whitney U'\n",
    "    else:\n",
    "        #t test\n",
    "        stat, p_value = ttest_ind(data_letters, data_non_letters, equal_var=True)\n",
    "        test_used = 'T-test'\n",
    "    \n",
    "    #storing the result.\n",
    "    results.append({\n",
    "        'Feature': feature,\n",
    "        'Test Used': test_used,\n",
    "        'p-value': p_value,\n",
    "        'Significant': p_value < 0.05  # If p-value < 0.05, it's significant\n",
    "    })"
   ]
  },
  {
   "cell_type": "code",
   "execution_count": null,
   "metadata": {},
   "outputs": [],
   "source": [
    "results_df = pd.DataFrame(results)"
   ]
  },
  {
   "cell_type": "code",
   "execution_count": null,
   "metadata": {},
   "outputs": [],
   "source": [
    "results_df.to_csv(output_test_file, index=False)"
   ]
  },
  {
   "cell_type": "markdown",
   "metadata": {},
   "source": [
    "electing most useful features based on statistical significance"
   ]
  },
  {
   "cell_type": "code",
   "execution_count": null,
   "metadata": {},
   "outputs": [],
   "source": [
    "significant_features = results_df[results_df['Significant']]['Feature'].tolist()"
   ]
  },
  {
   "cell_type": "code",
   "execution_count": null,
   "metadata": {},
   "outputs": [],
   "source": [
    "for feature in significant_features:\n",
    "    plt.figure(figsize=(8, 6))\n",
    "    sns.boxplot(x='type', y=feature, data=df)\n",
    "    plt.title(f\"{feature} Distribution for Letters vs Non-Letters\")\n",
    "    plt.xlabel(\"Type\")\n",
    "    plt.ylabel(feature)\n",
    "    plt.savefig(os.path.join(output_folder, f\"{feature}_boxplot.png\"))\n",
    "    plt.close()"
   ]
  },
  {
   "cell_type": "code",
   "execution_count": null,
   "metadata": {},
   "outputs": [],
   "source": [
    "features_to_plot = ['nr_pix', 'eyes']"
   ]
  },
  {
   "cell_type": "code",
   "execution_count": null,
   "metadata": {},
   "outputs": [],
   "source": [
    "sns.pairplot(df, vars=features_to_plot, hue='type', palette={'Letter': 'blue', 'Non-Letter': 'red'})\n",
    "plt.suptitle('Feature Scatter Plots for Letters vs Non-Letters', y=1.02)"
   ]
  },
  {
   "cell_type": "code",
   "execution_count": null,
   "metadata": {},
   "outputs": [],
   "source": [
    "plt.savefig('graphs/scatter_plot.png')\n",
    "plt.close()"
   ]
  },
  {
   "cell_type": "code",
   "execution_count": null,
   "metadata": {},
   "outputs": [],
   "source": [
    "print(f\"\\nBoxplots saved to '{output_folder}'!\")"
   ]
  },
  {
   "cell_type": "code",
   "execution_count": null,
   "metadata": {},
   "outputs": [],
   "source": [
    "for feature in significant_features:\n",
    "    print(f\"- {feature}\")"
   ]
  }
 ],
 "metadata": {
  "kernelspec": {
   "display_name": "Python 3",
   "language": "python",
   "name": "python3"
  },
  "language_info": {
   "codemirror_mode": {
    "name": "ipython",
    "version": 3
   },
   "file_extension": ".py",
   "mimetype": "text/x-python",
   "name": "python",
   "nbconvert_exporter": "python",
   "pygments_lexer": "ipython3",
   "version": "3.6.4"
  }
 },
 "nbformat": 4,
 "nbformat_minor": 2
}
