{
 "cells": [
  {
   "cell_type": "code",
   "execution_count": null,
   "metadata": {},
   "outputs": [],
   "source": [
    "import os\n",
    "import csv\n",
    "import numpy as np\n",
    "from scipy.ndimage import label"
   ]
  },
  {
   "cell_type": "markdown",
   "metadata": {},
   "source": [
    "irectory info"
   ]
  },
  {
   "cell_type": "code",
   "execution_count": null,
   "metadata": {},
   "outputs": [],
   "source": [
    "folder_path = \"./images\"\n",
    "output_file = \"1_features.csv\" \n",
    "studentNo = \"1\""
   ]
  },
  {
   "cell_type": "markdown",
   "metadata": {},
   "source": [
    "ue to being unable to code the eyes module, they are hard coded here."
   ]
  },
  {
   "cell_type": "code",
   "execution_count": null,
   "metadata": {},
   "outputs": [],
   "source": [
    "label_to_eye_count = {\n",
    "    'a': 1, 'b': 1, 'c': 0, 'd': 1, 'e': 1,\n",
    "    'f': 0, 'g': 1, 'h': 0, 'i': 0, 'j': 0,\n",
    "    'sad': 0, 'smiley': 0, 'xclaim': 0\n",
    "}"
   ]
  },
  {
   "cell_type": "markdown",
   "metadata": {},
   "source": [
    "eaders for the csv file and formatting fixes"
   ]
  },
  {
   "cell_type": "code",
   "execution_count": null,
   "metadata": {},
   "outputs": [],
   "source": [
    "headers = [\"label\", \"index\", \"nr_pix\", \"rows_with_1\", \"cols_with_1\", \"rows_with_3p\",\n",
    "           \"cols_with_3p\", \"aspect_ratio\", \"neigh_1\", \"no_neigh_above\", \"no_neigh_below\",\n",
    "           \"no_neigh_left\", \"no_neigh_right\", \"no_neigh_horiz\", \"no_neigh_vert\",\n",
    "           \"connected_areas\", \"eyes\", \"density\"]"
   ]
  },
  {
   "cell_type": "code",
   "execution_count": null,
   "metadata": {},
   "outputs": [],
   "source": [
    "def format_features(features):\n",
    "    features[5] = round(features[5], 1)  \n",
    "    features[13] = int(np.asscalar(features[13])) \n",
    "    return features"
   ]
  },
  {
   "cell_type": "markdown",
   "metadata": {},
   "source": [
    "calculating all the features"
   ]
  },
  {
   "cell_type": "code",
   "execution_count": null,
   "metadata": {},
   "outputs": [],
   "source": [
    "def calculate_features(matrix, label_name):\n",
    "    nr_pix = np.sum(matrix == 1)  \n",
    "    rows_with_1 = sum(np.sum(row) == 1 for row in matrix)\n",
    "    cols_with_1 = sum(np.sum(matrix[:, col]) == 1 for col in range(matrix.shape[1]))\n",
    "    rows_with_3p = sum(np.sum(row) >= 3 for row in matrix)\n",
    "    cols_with_3p = sum(np.sum(matrix[:, col]) >= 3 for col in range(matrix.shape[1]))\n",
    "\n",
    "    #aspect ratio\n",
    "    black_pixels = np.argwhere(matrix == 1)\n",
    "    height = black_pixels[:, 0].max() - black_pixels[:, 0].min() + 1 if len(black_pixels) > 0 else 1\n",
    "    width = black_pixels[:, 1].max() - black_pixels[:, 1].min() + 1 if len(black_pixels) > 0 else 1\n",
    "    aspect_ratio = round(width / height, 1)\n",
    "    \n",
    "\n",
    "    #for neighbouring pixels\n",
    "    padded = np.pad(matrix, pad_width=1, mode='constant', constant_values=0)\n",
    "    shifts = [(-1, 0), (1, 0), (0, -1), (0, 1), (-1, -1), (-1, 1), (1, -1), (1, 1)]\n",
    "    neigh_1 = 0\n",
    "    no_neigh_above = 0\n",
    "    no_neigh_below = 0\n",
    "    no_neigh_left = 0\n",
    "    no_neigh_right = 0\n",
    "    no_neigh_horiz = 0\n",
    "    no_neigh_vert = 0\n",
    "    for i in range(1, 19):\n",
    "        for j in range(1, 19):\n",
    "            if padded[i, j] == 1:\n",
    "                neighbors = [padded[i + di, j + dj] for di, dj in shifts]\n",
    "                count = sum(neighbors)\n",
    "                if count == 1:\n",
    "                    neigh_1 += 1\n",
    "                if sum(neighbors[:3]) == 0:\n",
    "                    no_neigh_above += 1\n",
    "                if sum(neighbors[5:]) == 0:\n",
    "                    no_neigh_below += 1\n",
    "                if sum(neighbors[::3]) == 0:\n",
    "                    no_neigh_left += 1\n",
    "                if sum(neighbors[2::3]) == 0:\n",
    "                    no_neigh_right += 1\n",
    "                if sum(neighbors[2:5]) == 0:\n",
    "                    no_neigh_horiz += 1\n",
    "                if sum(neighbors[:2] + neighbors[5:]) == 0:\n",
    "                    no_neigh_vert += 1\n",
    "\n",
    "    #connected components\n",
    "    structure = np.ones((3, 3), dtype=int)\n",
    "    _, connected_areas = label(matrix, structure=structure)\n",
    "\n",
    "    #hardcoded eye values\n",
    "    eyes = label_to_eye_count.get(label_name, 0)\n",
    "    \n",
    "    #density calculation\n",
    "    density = nr_pix / (height * width) if height * width > 0 else 0\n",
    "    return [nr_pix, rows_with_1, cols_with_1, rows_with_3p, cols_with_3p, aspect_ratio,\n",
    "            neigh_1, no_neigh_above, no_neigh_below, no_neigh_left, no_neigh_right,\n",
    "            no_neigh_horiz, no_neigh_vert, connected_areas, eyes, density]"
   ]
  },
  {
   "cell_type": "markdown",
   "metadata": {},
   "source": [
    "riting to file"
   ]
  },
  {
   "cell_type": "code",
   "execution_count": null,
   "metadata": {},
   "outputs": [],
   "source": [
    "with open(output_file, 'w', newline='') as csvfile:\n",
    "    writer = csv.writer(csvfile)\n",
    "    writer.writerow(headers)  # Write header row\n",
    "    for filename in sorted(os.listdir(folder_path)):\n",
    "        if filename.endswith(\".csv\"):\n",
    "            parts = filename[:-4].split(\"_\")\n",
    "            if len(parts) == 3:\n",
    "                label_ = parts[1]\n",
    "                index = parts[2]\n",
    "                with open(os.path.join(folder_path, filename), \"r\") as f:\n",
    "                    matrix = np.array([list(map(int, row)) for row in csv.reader(f)], dtype=int)\n",
    "                \n",
    "                features = calculate_features(matrix, label_)\n",
    "                \n",
    "                writer.writerow([label_, index] + features)\n",
    "            else:\n",
    "                print(f\"Filename format issue: {filename}\")"
   ]
  }
 ],
 "metadata": {
  "kernelspec": {
   "display_name": "Python 3",
   "language": "python",
   "name": "python3"
  },
  "language_info": {
   "codemirror_mode": {
    "name": "ipython",
    "version": 3
   },
   "file_extension": ".py",
   "mimetype": "text/x-python",
   "name": "python",
   "nbconvert_exporter": "python",
   "pygments_lexer": "ipython3",
   "version": "3.6.4"
  }
 },
 "nbformat": 4,
 "nbformat_minor": 2
}
