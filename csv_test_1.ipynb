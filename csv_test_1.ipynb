{
 "cells": [
  {
   "cell_type": "code",
   "execution_count": null,
   "metadata": {},
   "outputs": [],
   "source": [
    "import os\n",
    "import csv"
   ]
  },
  {
   "cell_type": "markdown",
   "metadata": {},
   "source": [
    "older path and constants"
   ]
  },
  {
   "cell_type": "code",
   "execution_count": null,
   "metadata": {},
   "outputs": [],
   "source": [
    "folder_path = r'\\images'\n",
    "studentNo = '1'  "
   ]
  },
  {
   "cell_type": "markdown",
   "metadata": {},
   "source": [
    "oop for all the drawings"
   ]
  },
  {
   "cell_type": "code",
   "execution_count": null,
   "metadata": {},
   "outputs": [],
   "source": [
    "for filename in os.listdir(folder_path):\n",
    "    #check for .pgm files\n",
    "    if filename.endswith('.pgm'):\n",
    "        file_path = os.path.join(folder_path, filename)\n",
    "\n",
    "        #splitting the names of drawings to reuse for naming csv files\n",
    "        base_filename = filename.split('.')[0]  \n",
    "        label, index = base_filename.split('_')\n",
    "        index = int(index)\n",
    "        \n",
    "        #reading the file\n",
    "        with open(file_path, 'r') as file:\n",
    "            lines = file.readlines()\n",
    "        \n",
    "        #taking the value from the txt file, starting from the 5th value (4th index) i.e. the start of the drawing\n",
    "        values = []\n",
    "        for line in lines[4:]:  \n",
    "            values.extend(map(int, line.split()))\n",
    "\n",
    "        #creating the matrix and loop to fill the values\n",
    "        matrix = [[0]*18 for _ in range(18)]\n",
    "        \n",
    "        for i in range(min(324, len(values))):  # Ensure we don't go out of range\n",
    "            row = i // 18\n",
    "            col = i % 18\n",
    "            value = values[i]\n",
    "            matrix[row][col] = 1 if value < 128 else 0\n",
    "        \n",
    "        #creating the csv files, placing matrix into the file\n",
    "        csv_filename = f\"{studentNo}_{label}_{index}.csv\"\n",
    "        csv_filepath = os.path.join(folder_path, csv_filename)\n",
    "        \n",
    "        with open(csv_filepath, 'w', newline='') as csvfile:\n",
    "            writer = csv.writer(csvfile)\n",
    "            for row in matrix:\n",
    "                writer.writerow(row)"
   ]
  },
  {
   "cell_type": "code",
   "execution_count": null,
   "metadata": {},
   "outputs": [],
   "source": [
    "print(f\"Matrix written to: {csv_filepath}\")"
   ]
  }
 ],
 "metadata": {
  "kernelspec": {
   "display_name": "Python 3",
   "language": "python",
   "name": "python3"
  },
  "language_info": {
   "codemirror_mode": {
    "name": "ipython",
    "version": 3
   },
   "file_extension": ".py",
   "mimetype": "text/x-python",
   "name": "python",
   "nbconvert_exporter": "python",
   "pygments_lexer": "ipython3",
   "version": "3.6.4"
  }
 },
 "nbformat": 4,
 "nbformat_minor": 2
}
